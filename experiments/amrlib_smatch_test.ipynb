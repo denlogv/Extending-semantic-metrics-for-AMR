{
 "cells": [
  {
   "cell_type": "markdown",
   "metadata": {},
   "source": [
    "<h2><center>Test scripts for amrlib and Smatch APIs</center></h1>"
   ]
  },
  {
   "cell_type": "markdown",
   "metadata": {},
   "source": [
    "#### Imports, setup and paths:"
   ]
  },
  {
   "cell_type": "code",
   "execution_count": 1,
   "metadata": {},
   "outputs": [],
   "source": [
    "import re\n",
    "import spacy\n",
    "import amrlib\n",
    "import pandas as pd\n",
    "from pathlib import Path\n",
    "\n",
    "amrlib.setup_spacy_extension()\n",
    "nlp = spacy.load('en_core_web_sm')\n",
    "\n",
    "ds_path = Path('.')/'datasets'"
   ]
  },
  {
   "cell_type": "markdown",
   "metadata": {},
   "source": [
    "#### 1.0 Unzipping functions:"
   ]
  },
  {
   "cell_type": "code",
   "execution_count": 8,
   "metadata": {},
   "outputs": [],
   "source": [
    "import os\n",
    "import gzip\n",
    "import tarfile\n",
    "from pathlib import Path\n",
    "\n",
    "def extract_all_gz(source_filepath, dest_filepath, block_size=65536):\n",
    "    with gzip.open(source_filepath, 'rb') as s_file, open(dest_filepath, 'wb') as d_file:\n",
    "        while True:\n",
    "            block = s_file.read(block_size)\n",
    "            if not block:\n",
    "                break\n",
    "            else:\n",
    "                d_file.write(block)\n",
    "\n",
    "\n",
    "def extract_all_tar_gz(source_dir):\n",
    "    for filename in os.listdir(source_dir):\n",
    "        filename = Path(source_dir)/filename\n",
    "        with tarfile.open(filename, 'r:gz') as f:\n",
    "            f.extractall(source_dir)\n",
    "        \n",
    "#extract_all('datasets/ppdb/ppdb-2.0-s-all.gz', 'datasets/ppdb/ppdb-2.0-s-all')\n",
    "#extract_all_tar_gz(r'C:\\ProgramData\\Anaconda3\\envs\\dlp38\\Lib\\site-packages\\amrlib\\data')"
   ]
  },
  {
   "cell_type": "markdown",
   "metadata": {},
   "source": [
    "#### 1.0 Loading SICK-trial:"
   ]
  },
  {
   "cell_type": "code",
   "execution_count": 2,
   "metadata": {
    "scrolled": false
   },
   "outputs": [
    {
     "name": "stdout",
     "output_type": "stream",
     "text": [
      "<class 'pandas.core.frame.DataFrame'>\n",
      "RangeIndex: 500 entries, 0 to 499\n",
      "Data columns (total 4 columns):\n",
      " #   Column             Non-Null Count  Dtype  \n",
      "---  ------             --------------  -----  \n",
      " 0   pair_ID            500 non-null    int64  \n",
      " 1   sentence_A         500 non-null    object \n",
      " 2   sentence_B         500 non-null    object \n",
      " 3   relatedness_score  500 non-null    float64\n",
      "dtypes: float64(1), int64(1), object(2)\n",
      "memory usage: 15.8+ KB\n",
      "None\n"
     ]
    },
    {
     "data": {
      "text/html": [
       "<div>\n",
       "<style scoped>\n",
       "    .dataframe tbody tr th:only-of-type {\n",
       "        vertical-align: middle;\n",
       "    }\n",
       "\n",
       "    .dataframe tbody tr th {\n",
       "        vertical-align: top;\n",
       "    }\n",
       "\n",
       "    .dataframe thead th {\n",
       "        text-align: right;\n",
       "    }\n",
       "</style>\n",
       "<table border=\"1\" class=\"dataframe\">\n",
       "  <thead>\n",
       "    <tr style=\"text-align: right;\">\n",
       "      <th></th>\n",
       "      <th>pair_ID</th>\n",
       "      <th>sentence_A</th>\n",
       "      <th>sentence_B</th>\n",
       "      <th>relatedness_score</th>\n",
       "    </tr>\n",
       "  </thead>\n",
       "  <tbody>\n",
       "    <tr>\n",
       "      <th>0</th>\n",
       "      <td>4</td>\n",
       "      <td>The young boys are playing outdoors and the ma...</td>\n",
       "      <td>There is no boy playing outdoors and there is ...</td>\n",
       "      <td>0.72</td>\n",
       "    </tr>\n",
       "    <tr>\n",
       "      <th>1</th>\n",
       "      <td>24</td>\n",
       "      <td>A person in a black jacket is doing tricks on ...</td>\n",
       "      <td>A skilled person is riding a bicycle on one wheel</td>\n",
       "      <td>0.68</td>\n",
       "    </tr>\n",
       "    <tr>\n",
       "      <th>2</th>\n",
       "      <td>105</td>\n",
       "      <td>Four children are doing backbends in the gym</td>\n",
       "      <td>Four girls are doing backbends and playing out...</td>\n",
       "      <td>0.76</td>\n",
       "    </tr>\n",
       "    <tr>\n",
       "      <th>3</th>\n",
       "      <td>116</td>\n",
       "      <td>A player is throwing the ball</td>\n",
       "      <td>Two teams are competing in a football match</td>\n",
       "      <td>0.58</td>\n",
       "    </tr>\n",
       "    <tr>\n",
       "      <th>4</th>\n",
       "      <td>119</td>\n",
       "      <td>Five children are standing in front of a woode...</td>\n",
       "      <td>Five children are standing in a wooden hut</td>\n",
       "      <td>0.84</td>\n",
       "    </tr>\n",
       "  </tbody>\n",
       "</table>\n",
       "</div>"
      ],
      "text/plain": [
       "   pair_ID                                         sentence_A  \\\n",
       "0        4  The young boys are playing outdoors and the ma...   \n",
       "1       24  A person in a black jacket is doing tricks on ...   \n",
       "2      105       Four children are doing backbends in the gym   \n",
       "3      116                      A player is throwing the ball   \n",
       "4      119  Five children are standing in front of a woode...   \n",
       "\n",
       "                                          sentence_B  relatedness_score  \n",
       "0  There is no boy playing outdoors and there is ...               0.72  \n",
       "1  A skilled person is riding a bicycle on one wheel               0.68  \n",
       "2  Four girls are doing backbends and playing out...               0.76  \n",
       "3        Two teams are competing in a football match               0.58  \n",
       "4         Five children are standing in a wooden hut               0.84  "
      ]
     },
     "execution_count": 2,
     "metadata": {},
     "output_type": "execute_result"
    }
   ],
   "source": [
    "sick_path = ds_path/'sts'/'SICK_trial.txt'\n",
    "sick = pd.read_csv(sick_path, header=0, sep='\\t', usecols=list(range(4)))\n",
    "sick['relatedness_score'] = sick['relatedness_score']/5\n",
    "\n",
    "print(sick.info())\n",
    "sick.head()"
   ]
  },
  {
   "cell_type": "code",
   "execution_count": 3,
   "metadata": {},
   "outputs": [
    {
     "name": "stdout",
     "output_type": "stream",
     "text": [
      "Loading model C:\\ProgramData\\Anaconda3\\envs\\dlp38\\Lib\\site-packages\\amrlib\\data\\model_stog\\model.pt\n"
     ]
    },
    {
     "data": {
      "text/html": [
       "<div>\n",
       "<style scoped>\n",
       "    .dataframe tbody tr th:only-of-type {\n",
       "        vertical-align: middle;\n",
       "    }\n",
       "\n",
       "    .dataframe tbody tr th {\n",
       "        vertical-align: top;\n",
       "    }\n",
       "\n",
       "    .dataframe thead th {\n",
       "        text-align: right;\n",
       "    }\n",
       "</style>\n",
       "<table border=\"1\" class=\"dataframe\">\n",
       "  <thead>\n",
       "    <tr style=\"text-align: right;\">\n",
       "      <th></th>\n",
       "      <th>pair_ID</th>\n",
       "      <th>sentence_A</th>\n",
       "      <th>sentence_B</th>\n",
       "      <th>relatedness_score</th>\n",
       "      <th>f_score</th>\n",
       "      <th>mse</th>\n",
       "    </tr>\n",
       "  </thead>\n",
       "  <tbody>\n",
       "    <tr>\n",
       "      <th>0</th>\n",
       "      <td>4</td>\n",
       "      <td>The young boys are playing outdoors and the ma...</td>\n",
       "      <td>There is no boy playing outdoors and there is ...</td>\n",
       "      <td>0.72</td>\n",
       "      <td>0.800000</td>\n",
       "      <td>0.006400</td>\n",
       "    </tr>\n",
       "    <tr>\n",
       "      <th>1</th>\n",
       "      <td>24</td>\n",
       "      <td>A person in a black jacket is doing tricks on ...</td>\n",
       "      <td>A skilled person is riding a bicycle on one wheel</td>\n",
       "      <td>0.68</td>\n",
       "      <td>0.260870</td>\n",
       "      <td>0.175670</td>\n",
       "    </tr>\n",
       "    <tr>\n",
       "      <th>2</th>\n",
       "      <td>105</td>\n",
       "      <td>Four children are doing backbends in the gym</td>\n",
       "      <td>Four girls are doing backbends and playing out...</td>\n",
       "      <td>0.76</td>\n",
       "      <td>0.434783</td>\n",
       "      <td>0.105766</td>\n",
       "    </tr>\n",
       "    <tr>\n",
       "      <th>3</th>\n",
       "      <td>116</td>\n",
       "      <td>A player is throwing the ball</td>\n",
       "      <td>Two teams are competing in a football match</td>\n",
       "      <td>0.58</td>\n",
       "      <td>0.235294</td>\n",
       "      <td>0.118822</td>\n",
       "    </tr>\n",
       "    <tr>\n",
       "      <th>4</th>\n",
       "      <td>119</td>\n",
       "      <td>Five children are standing in front of a woode...</td>\n",
       "      <td>Five children are standing in a wooden hut</td>\n",
       "      <td>0.84</td>\n",
       "      <td>0.800000</td>\n",
       "      <td>0.001600</td>\n",
       "    </tr>\n",
       "  </tbody>\n",
       "</table>\n",
       "</div>"
      ],
      "text/plain": [
       "   pair_ID                                         sentence_A  \\\n",
       "0        4  The young boys are playing outdoors and the ma...   \n",
       "1       24  A person in a black jacket is doing tricks on ...   \n",
       "2      105       Four children are doing backbends in the gym   \n",
       "3      116                      A player is throwing the ball   \n",
       "4      119  Five children are standing in front of a woode...   \n",
       "\n",
       "                                          sentence_B  relatedness_score  \\\n",
       "0  There is no boy playing outdoors and there is ...               0.72   \n",
       "1  A skilled person is riding a bicycle on one wheel               0.68   \n",
       "2  Four girls are doing backbends and playing out...               0.76   \n",
       "3        Two teams are competing in a football match               0.58   \n",
       "4         Five children are standing in a wooden hut               0.84   \n",
       "\n",
       "    f_score       mse  \n",
       "0  0.800000  0.006400  \n",
       "1  0.260870  0.175670  \n",
       "2  0.434783  0.105766  \n",
       "3  0.235294  0.118822  \n",
       "4  0.800000  0.001600  "
      ]
     },
     "execution_count": 3,
     "metadata": {},
     "output_type": "execute_result"
    }
   ],
   "source": [
    "import smatch\n",
    "from smatch import score_amr_pairs\n",
    "smatch.single_score = False\n",
    "\n",
    "stog = amrlib.load_stog_model()\n",
    "sents_a, sents_b = sick['sentence_A'].to_list(), sick['sentence_B'].to_list()\n",
    "sents_a_amr = stog.parse_sents(sents_a, add_metadata=False)\n",
    "sents_b_amr = stog.parse_sents(sents_b, add_metadata=False)\n",
    "\n",
    "sick_amr_dir = ds_path/'sts'\n",
    "\n",
    "def save_amr(amrs, filepath):\n",
    "    with open(sick_amr_dir/filepath, 'w') as f:\n",
    "        for amr in amrs:\n",
    "            print(amr, file=f, end='\\n\\n')\n",
    "            \n",
    "save_amr(sents_a_amr, 'sents_a_amr.txt')\n",
    "save_amr(sents_b_amr, 'sents_b_amr.txt')\n",
    "\n",
    "with open(sick_amr_dir/'sents_a_amr.txt') as f1, open(sick_amr_dir/'sents_b_amr.txt') as f2:\n",
    "    f_scores = [f_score for (_, _, f_score) in score_amr_pairs(f1, f2)]\n",
    "\n",
    "sick['f_score'] = f_scores\n",
    "sick['mse'] = (sick['relatedness_score'] - sick['f_score'])**2\n",
    "\n",
    "sick.head()"
   ]
  },
  {
   "cell_type": "code",
   "execution_count": 19,
   "metadata": {},
   "outputs": [],
   "source": [
    "sick.sort_values(by='mse', ascending=False).to_csv(sick_amr_dir/'SICK_trial_AMR_SMATCH.tsv', sep='\\t', \n",
    "                                            float_format='%.3f', index=False)"
   ]
  }
 ],
 "metadata": {
  "kernelspec": {
   "display_name": "Python 3",
   "language": "python",
   "name": "python3"
  },
  "language_info": {
   "codemirror_mode": {
    "name": "ipython",
    "version": 3
   },
   "file_extension": ".py",
   "mimetype": "text/x-python",
   "name": "python",
   "nbconvert_exporter": "python",
   "pygments_lexer": "ipython3",
   "version": "3.8.5"
  }
 },
 "nbformat": 4,
 "nbformat_minor": 4
}
