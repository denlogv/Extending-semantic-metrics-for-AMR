{
 "cells": [
  {
   "cell_type": "markdown",
   "metadata": {},
   "source": [
    "### Using Benepar:"
   ]
  },
  {
   "cell_type": "code",
   "execution_count": 16,
   "metadata": {},
   "outputs": [
    {
     "name": "stderr",
     "output_type": "stream",
     "text": [
      "[nltk_data] Downloading package benepar_en2 to C:\\Users\\Denis\n",
      "[nltk_data]     Logvinenko\\AppData\\Roaming\\nltk_data...\n",
      "[nltk_data]   Package benepar_en2 is already up-to-date!\n"
     ]
    }
   ],
   "source": [
    "import nltk\n",
    "from nltk.tree import Tree\n",
    "import spacy; nlp = spacy.load(\"en_core_web_sm\")\n",
    "import benepar\n",
    "from benepar.spacy_plugin import BeneparComponent\n",
    "from sentence_transformers import SentenceTransformer, util\n",
    "\n",
    "benepar_ver = 'benepar_en2'\n",
    "benepar.download(benepar_ver)\n",
    "\n",
    "model = SentenceTransformer('distilbert-base-nli-stsb-mean-tokens')\n",
    "nlp.add_pipe(BeneparComponent(benepar_ver))"
   ]
  },
  {
   "cell_type": "code",
   "execution_count": 17,
   "metadata": {},
   "outputs": [
    {
     "name": "stdout",
     "output_type": "stream",
     "text": [
      "(S\n",
      "  (NP (DT The) (NN kitten))\n",
      "  (VP\n",
      "    (VBZ is)\n",
      "    (VP (VBG running) (PP (IN through) (NP (DT a) (NN gate))))))\n",
      "(S (NP (DT A) (JJ young) (NN cat)) (VP (VBZ sprints)))\n"
     ]
    }
   ],
   "source": [
    "texts = [\"The kitten is running through a gate\", \"A young cat sprints\"]\n",
    "docs = list(nlp.pipe(texts))\n",
    "\n",
    "trees = [Tree.fromstring(list(doc.sents)[0]._.parse_string) for doc in docs]\n",
    "for tree in trees: print(tree)"
   ]
  },
  {
   "cell_type": "markdown",
   "metadata": {},
   "source": [
    "### Using SuPar:"
   ]
  },
  {
   "cell_type": "code",
   "execution_count": 14,
   "metadata": {},
   "outputs": [
    {
     "name": "stderr",
     "output_type": "stream",
     "text": [
      "100%|####################################| 1/1 00:00<00:00, 50.14it/s"
     ]
    },
    {
     "name": "stdout",
     "output_type": "stream",
     "text": [
      "(TOP (S (NP (_ A) (_ young) (_ cat)) (VP (_ sprints))))\n",
      "[Tree('NP', [Tree('_', ['A']), Tree('_', ['young']), Tree('_', ['cat'])]), Tree('VP', [Tree('_', ['sprints'])])]\n"
     ]
    },
    {
     "name": "stderr",
     "output_type": "stream",
     "text": [
      "\n"
     ]
    }
   ],
   "source": [
    "import spacy\n",
    "from supar import Parser\n",
    "\n",
    "nlp = spacy.load(\"en_core_web_sm\")\n",
    "text = 'A young cat sprints'\n",
    "toks = [el.text for el in nlp(text)]\n",
    "\n",
    "parser = Parser.load('crf-con-en')\n",
    "dataset = parser.predict([toks], prob=False, verbose=False)\n",
    "\n",
    "tree = dataset.trees[0]\n",
    "\n",
    "print(tree)\n",
    "\n",
    "subtree_h3 = tree.subtrees(lambda t: t.height() == 3)\n",
    "\n",
    "print(list(subtree_h3))"
   ]
  },
  {
   "cell_type": "markdown",
   "metadata": {},
   "source": [
    "### Computing Phrase Similarity:"
   ]
  },
  {
   "cell_type": "code",
   "execution_count": 16,
   "metadata": {},
   "outputs": [
    {
     "name": "stdout",
     "output_type": "stream",
     "text": [
      "The kitten \t\t A young cat \t\t Score: 0.6921\n",
      "The kitten \t\t a mouse \t\t Score: 0.2679\n"
     ]
    }
   ],
   "source": [
    "sentences1, sentences2 = nps\n",
    "\n",
    "#Compute embedding for both lists\n",
    "embeddings1 = model.encode(sentences1, convert_to_tensor=True)\n",
    "embeddings2 = model.encode(sentences2, convert_to_tensor=True)\n",
    "\n",
    "#Compute cosine-similarits\n",
    "cosine_scores = util.pytorch_cos_sim(embeddings1, embeddings2)\n",
    "\n",
    "#Output the pairs with their score\n",
    "for i in range(cosine_scores.shape[0]):\n",
    "    for j in range(cosine_scores.shape[1]):\n",
    "        print(f'{sentences1[i]} \\t\\t {sentences2[j]} \\t\\t Score: {cosine_scores[i, j]:.4f}')"
   ]
  },
  {
   "cell_type": "code",
   "execution_count": null,
   "metadata": {},
   "outputs": [],
   "source": []
  }
 ],
 "metadata": {
  "kernelspec": {
   "display_name": "Python 3",
   "language": "python",
   "name": "python3"
  },
  "language_info": {
   "codemirror_mode": {
    "name": "ipython",
    "version": 3
   },
   "file_extension": ".py",
   "mimetype": "text/x-python",
   "name": "python",
   "nbconvert_exporter": "python",
   "pygments_lexer": "ipython3",
   "version": "3.8.5"
  }
 },
 "nbformat": 4,
 "nbformat_minor": 4
}
