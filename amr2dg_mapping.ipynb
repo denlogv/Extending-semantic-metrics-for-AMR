{
 "cells": [
  {
   "cell_type": "markdown",
   "metadata": {},
   "source": [
    "<h2><center> Scripts AMR to DG mapping </center></h2>"
   ]
  },
  {
   "cell_type": "markdown",
   "metadata": {},
   "source": [
    "### General imports:"
   ]
  },
  {
   "cell_type": "code",
   "execution_count": 1,
   "metadata": {},
   "outputs": [],
   "source": [
    "import pandas as pd\n",
    "from pathlib import Path "
   ]
  },
  {
   "cell_type": "markdown",
   "metadata": {},
   "source": [
    "### 1. Generating AMR from corpus: "
   ]
  },
  {
   "cell_type": "markdown",
   "metadata": {},
   "source": [
    "#### 1.1 Loading corpus:"
   ]
  },
  {
   "cell_type": "code",
   "execution_count": 2,
   "metadata": {},
   "outputs": [
    {
     "name": "stdout",
     "output_type": "stream",
     "text": [
      "Should I use IRA money to pay down my student loans? Should I cash out my IRA to pay my student loans?\n"
     ]
    },
    {
     "data": {
      "text/html": [
       "<div>\n",
       "<style scoped>\n",
       "    .dataframe tbody tr th:only-of-type {\n",
       "        vertical-align: middle;\n",
       "    }\n",
       "\n",
       "    .dataframe tbody tr th {\n",
       "        vertical-align: top;\n",
       "    }\n",
       "\n",
       "    .dataframe thead th {\n",
       "        text-align: right;\n",
       "    }\n",
       "</style>\n",
       "<table border=\"1\" class=\"dataframe\">\n",
       "  <thead>\n",
       "    <tr style=\"text-align: right;\">\n",
       "      <th></th>\n",
       "      <th>sent1</th>\n",
       "      <th>sent2</th>\n",
       "    </tr>\n",
       "  </thead>\n",
       "  <tbody>\n",
       "    <tr>\n",
       "      <th>0</th>\n",
       "      <td>Should I use IRA money to pay down my student ...</td>\n",
       "      <td>Should I cash out my IRA to pay my student loans?</td>\n",
       "    </tr>\n",
       "    <tr>\n",
       "      <th>1</th>\n",
       "      <td>How do I keep an egg from cracking while being...</td>\n",
       "      <td>How do I prevent an egg cracking while hard bo...</td>\n",
       "    </tr>\n",
       "  </tbody>\n",
       "</table>\n",
       "</div>"
      ],
      "text/plain": [
       "                                               sent1  \\\n",
       "0  Should I use IRA money to pay down my student ...   \n",
       "1  How do I keep an egg from cracking while being...   \n",
       "\n",
       "                                               sent2  \n",
       "0  Should I cash out my IRA to pay my student loans?  \n",
       "1  How do I prevent an egg cracking while hard bo...  "
      ]
     },
     "execution_count": 2,
     "metadata": {},
     "output_type": "execute_result"
    }
   ],
   "source": [
    "sts_path = Path('.')/'datasets'/'sts'\n",
    "sts = pd.read_csv(sts_path/'STS2016_full.tsv', header=0, sep='\\t', usecols=list(range(2)))\n",
    "\n",
    "sents = [sts['sent1'].tolist(), sts['sent2'].tolist()]\n",
    "\n",
    "#print(sts.info())\n",
    "print(sents[0][0], sents[1][0])\n",
    "sts.head(2)"
   ]
  },
  {
   "cell_type": "markdown",
   "metadata": {},
   "source": [
    "#### 1.2 Running an Text2AMR-parser:"
   ]
  },
  {
   "cell_type": "code",
   "execution_count": 3,
   "metadata": {},
   "outputs": [
    {
     "name": "stdout",
     "output_type": "stream",
     "text": [
      "Loading model C:\\ProgramData\\Anaconda3\\envs\\dlp38\\Lib\\site-packages\\amrlib\\data\\model_stog\\model.pt\n"
     ]
    }
   ],
   "source": [
    "import amrlib \n",
    "amrlib.setup_spacy_extension()\n",
    "\n",
    "stog = amrlib.load_stog_model()\n",
    "sents1_amr = stog.parse_sents(sents[0], add_metadata=True)\n",
    "sents2_amr = stog.parse_sents(sents[1], add_metadata=True)\n",
    "\n",
    "def save_amrs(amrs, savepath):\n",
    "    with open(sts_path/savepath, 'w') as f:\n",
    "        for amr in amrs:\n",
    "            print(amr, file=f, end='\\n\\n')\n",
    "\n",
    "save_amrs(sents1_amr, 'STS2016_sents1_AMR.txt')\n",
    "save_amrs(sents2_amr, 'STS2016_sents2_AMR.txt')"
   ]
  },
  {
   "cell_type": "code",
   "execution_count": null,
   "metadata": {},
   "outputs": [],
   "source": []
  },
  {
   "cell_type": "markdown",
   "metadata": {},
   "source": [
    "### 2. Generating UD-DG from corpus: "
   ]
  },
  {
   "cell_type": "code",
   "execution_count": 16,
   "metadata": {},
   "outputs": [
    {
     "name": "stderr",
     "output_type": "stream",
     "text": [
      "100%|####################################| 33/33 00:07<00:00,  4.14it/s            \n",
      "100%|####################################| 31/31 00:07<00:00,  3.91it/s            \n"
     ]
    }
   ],
   "source": [
    "from supar import Parser\n",
    "import spacy; nlp = spacy.load('en_core_web_sm')\n",
    "\n",
    "parser = Parser.load('crfnp-dep-en')\n",
    "\n",
    "docs1 = list(nlp.pipe(sents[0]))\n",
    "docs2 = list(nlp.pipe(sents[1]))\n",
    "\n",
    "toks1 = [[tok.text for tok in doc] for doc in docs1]\n",
    "toks2 = [[tok.text for tok in doc] for doc in docs2]\n",
    "\n",
    "dataset1 = parser.predict(toks1, prob=True, verbose=False)\n",
    "dataset2 = parser.predict(toks2, prob=True, verbose=False)\n",
    "dg_parses1, dg_parses2  = dataset1.sentences, dataset2.sentences\n",
    "\n",
    "def save_dg(dgs, savepath):\n",
    "    with open(sts_path/savepath, 'w') as f:\n",
    "        for dg in dgs:\n",
    "            print(dg, file=f, end='\\n')\n",
    "\n",
    "save_dg(dg_parses1, 'STS2016_sents1_DG.txt')\n",
    "save_dg(dg_parses2, 'STS2016_sents2_DG.txt')\n",
    "#for parse in dg_parses1[:3]: print(parse)"
   ]
  },
  {
   "cell_type": "markdown",
   "metadata": {},
   "source": [
    "### 3. Running Szubert et al. (2018) scripts:"
   ]
  },
  {
   "cell_type": "code",
   "execution_count": 4,
   "metadata": {},
   "outputs": [
    {
     "name": "stderr",
     "output_type": "stream",
     "text": [
      "Traceback (most recent call last):\n",
      "  File \"szubert_parser_py3\\align.py\", line 18, in <module>\n",
      "    sentences = read_in_fixed_parses(read(opts.amr_file), opts.ud_file)\n",
      "  File \"C:\\Users\\Denis Logvinenko\\Documents\\Projects\\SWP\\szubert_parser_py3\\parse.py\", line 30, in read\n",
      "    return process_amr_input_file(amr_file, max_sent_length, parse=False, isi=isi, jamr=jamr)\n",
      "  File \"C:\\Users\\Denis Logvinenko\\Documents\\Projects\\SWP\\szubert_parser_py3\\parse.py\", line 66, in process_amr_input_file\n",
      "    amr_concepts, amr2jamr, amr2isi, amr_relations = process_amr(full_amr, jamr=jamr, isi=isi)\n",
      "  File \"C:\\Users\\Denis Logvinenko\\Documents\\Projects\\SWP\\szubert_parser_py3\\parse.py\", line 176, in process_amr\n",
      "    concept_dict, graph = parse_amr(amr_string, concept_dict, [], {}, [], 0)\n",
      "TypeError: cannot unpack non-iterable NoneType object\n"
     ]
    }
   ],
   "source": [
    "# Steps necessary to run those scripts (admin rights required):\n",
    "# pip install num2words\n",
    "# pip install Morfessor\n",
    "# pip install pycorenlp\n",
    "!conda activate dlp38 && python szubert_parser_py3\\align.py -p \"datasets/sts/STS2016_sents1_DG.txt\" -a \"datasets/sts/STS2016_sents1_AMR.txt\" -o \"STS2016_sents1_AMR2DG.txt\""
   ]
  }
 ],
 "metadata": {
  "kernelspec": {
   "display_name": "Python 3",
   "language": "python",
   "name": "python3"
  },
  "language_info": {
   "codemirror_mode": {
    "name": "ipython",
    "version": 3
   },
   "file_extension": ".py",
   "mimetype": "text/x-python",
   "name": "python",
   "nbconvert_exporter": "python",
   "pygments_lexer": "ipython3",
   "version": "3.8.5"
  }
 },
 "nbformat": 4,
 "nbformat_minor": 4
}
