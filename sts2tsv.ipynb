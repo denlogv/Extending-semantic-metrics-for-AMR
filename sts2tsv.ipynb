{
 "cells": [
  {
   "cell_type": "code",
   "execution_count": 39,
   "metadata": {},
   "outputs": [],
   "source": [
    "import numpy as np\n",
    "import pandas as pd\n",
    "from pathlib import Path\n",
    "from collections import defaultdict\n",
    "\n",
    "sts = Path.cwd()/'datasets'/'sts'/'sts2016-english-with-gs-v1.0'\n",
    "\n",
    "sts_ds_all   = list(sts.glob('STS2016.*.txt'))\n",
    "sts_ds_input = sorted([p for p in sts_ds_all if p.suffixes[0] == '.input'])\n",
    "sts_ds_gold  = sorted([p for p in sts_ds_all if p.suffixes[0] == '.gs'])\n",
    "sts_ds_input_gold = list(zip(sts_ds_input, sts_ds_gold))\n",
    "\n",
    "sts_ds = defaultdict(list)\n",
    "get_theme = lambda p: p.suffixes[1][1:]\n",
    "\n",
    "for file_input, file_gold in sts_ds_input_gold:\n",
    "    theme = get_theme(file_input)\n",
    "    with open(file_gold) as gold: \n",
    "        scores = [np.nan if not line.strip() else int(line.strip()) for line in gold.readlines()]\n",
    "        sts_ds['score'] += scores\n",
    "        sts_ds['theme'] += [theme]*len(scores)\n",
    "        \n",
    "    with open(file_input) as inp:\n",
    "        for line in inp:\n",
    "            if line:\n",
    "                sent1, sent2 = line.split('\\t')[:2]\n",
    "                sts_ds['sent1'].append(sent1); sts_ds['sent2'].append(sent2)\n",
    "\n",
    "sts_df = pd.DataFrame(sts_ds)[['sent1', 'sent2', 'theme', 'score']]\n",
    "sts_df.sort_values(by=['theme', 'score'], ascending=False).to_csv(sts.parent/'STS2016_full.tsv', sep='\\t', index=False)"
   ]
  }
 ],
 "metadata": {
  "kernelspec": {
   "display_name": "Python 3",
   "language": "python",
   "name": "python3"
  },
  "language_info": {
   "codemirror_mode": {
    "name": "ipython",
    "version": 3
   },
   "file_extension": ".py",
   "mimetype": "text/x-python",
   "name": "python",
   "nbconvert_exporter": "python",
   "pygments_lexer": "ipython3",
   "version": "3.8.5"
  }
 },
 "nbformat": 4,
 "nbformat_minor": 4
}
