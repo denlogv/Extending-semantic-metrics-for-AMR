{
 "cells": [
  {
   "cell_type": "code",
   "execution_count": 25,
   "metadata": {},
   "outputs": [],
   "source": [
    "from transformers import AutoTokenizer, AutoModel \n",
    "import torch\n",
    "from sklearn.metrics.pairwise import cosine_similarity\n",
    "import seaborn as sns\n",
    "import matplotlib.pyplot as plt\n",
    "sbert_tokenizer = AutoTokenizer.from_pretrained(\"sentence-transformers/bert-base-nli-cls-token\")\n",
    "sbert_model = AutoModel.from_pretrained(\"sentence-transformers/bert-base-nli-cls-token\")"
   ]
  },
  {
   "cell_type": "markdown",
   "metadata": {},
   "source": [
    " <font size=\"4\">(1) Get token embeddings before mean-pooling</font>"
   ]
  },
  {
   "cell_type": "code",
   "execution_count": 114,
   "metadata": {},
   "outputs": [],
   "source": [
    "sentences = [\" young cat walks fast \", \"kitten runs\"]"
   ]
  },
  {
   "cell_type": "code",
   "execution_count": 115,
   "metadata": {},
   "outputs": [],
   "source": [
    "sbert_encoded_inputs = sbert_tokenizer(sentences, padding=True, truncation=True, max_length=128, return_tensors='pt')\n",
    "#for ids in sbert_encoded_inputs[\"input_ids\"]:\n",
    "    #print(ids, sbert_tokenizer.decode(ids))\n",
    "with torch.no_grad():\n",
    "    sbert_output = sbert_model(**sbert_encoded_inputs)\n",
    "sbert_pairwise_similarities=cosine_similarity(sbert_output[0][0],sbert_output[0][1]) "
   ]
  },
  {
   "cell_type": "code",
   "execution_count": null,
   "metadata": {},
   "outputs": [],
   "source": []
  },
  {
   "cell_type": "code",
   "execution_count": 116,
   "metadata": {},
   "outputs": [
    {
     "data": {
      "image/png": "[encoded data removed]",
      "text/plain": [
       "<Figure size 432x288 with 2 Axes>"
      ]
     },
     "metadata": {
      "needs_background": "light"
     },
     "output_type": "display_data"
    }
   ],
   "source": [
    "labels = [sbert_tokenizer.decode(ids) for ids in sbert_encoded_inputs[\"input_ids\"] ]\n",
    "y_labels = labels[0].split()   \n",
    "x_labels = labels[1].split()\n",
    "#print(y_lables, \"\\n\", x_labels)\n",
    "#f, ax = plt.subplots(figsize=(10,10))\n",
    "ax = sns.heatmap(sbert_pairwise_similarities, xticklabels=x_labels, yticklabels=y_labels, annot = True, square=True, linewidths=0.2)\n",
    "ax.invert_yaxis()"
   ]
  },
  {
   "cell_type": "markdown",
   "metadata": {},
   "source": [
    "<font size=4>(2) Compute sentence embeddings manually</font>"
   ]
  },
  {
   "cell_type": "code",
   "execution_count": 117,
   "metadata": {},
   "outputs": [
    {
     "name": "stdout",
     "output_type": "stream",
     "text": [
      "[[0.99999994 0.69492054]\n",
      " [0.69492054 1.0000002 ]]\n"
     ]
    }
   ],
   "source": [
    "def mean_pooling(model_output, attention_mask):\n",
    "    token_embeddings = model_output[0] #token embeddings\n",
    "    input_mask_expanded = attention_mask.unsqueeze(-1).expand(token_embeddings.size()).float()\n",
    "    sum_embeddings = torch.sum(token_embeddings * input_mask_expanded, 1)\n",
    "    sum_mask = torch.clamp(input_mask_expanded.sum(1), min=1e-9)\n",
    "    return sum_embeddings / sum_mask\n",
    "\n",
    "encoded_input = sbert_tokenizer(sentences, padding=True, truncation=True, max_length=128, return_tensors='pt')\n",
    "\n",
    "with torch.no_grad():\n",
    "    model_output = sbert_model(**encoded_input)\n",
    "\n",
    "#Perform mean pooling\n",
    "sentence_embeddings1 = mean_pooling(model_output, encoded_input['attention_mask'])\n",
    "\n",
    "pairwise_similarities=cosine_similarity(sentence_embeddings1)\n",
    "print(pairwise_similarities)"
   ]
  },
  {
   "cell_type": "code",
   "execution_count": null,
   "metadata": {},
   "outputs": [],
   "source": []
  },
  {
   "cell_type": "markdown",
   "metadata": {},
   "source": [
    "<font size=4>(3) Compute sentence embeddings</font>"
   ]
  },
  {
   "cell_type": "code",
   "execution_count": 118,
   "metadata": {},
   "outputs": [
    {
     "name": "stdout",
     "output_type": "stream",
     "text": [
      "Sentence embeddings: \n",
      " tensor([[-0.9378, -0.2172,  0.4446,  ...,  0.0746,  0.5075,  0.0471],\n",
      "        [-0.4368,  0.2615,  0.1175,  ..., -0.5179,  0.7768,  0.3949]])\n",
      "[[1.        0.6705172]\n",
      " [0.6705172 1.0000001]]\n"
     ]
    }
   ],
   "source": [
    "encoded_input = sbert_tokenizer(sentences, padding=True, truncation=True, max_length=128, return_tensors='pt')\n",
    "\n",
    "\n",
    "with torch.no_grad():\n",
    "    model_output = sbert_model(**encoded_input)\n",
    "    sentence_embeddings2 = model_output[0][:,0] \n",
    "print(\"Sentence embeddings:\",\"\\n\", sentence_embeddings2)\n",
    "\n",
    "pairwise_similarities=cosine_similarity(sentence_embeddings2)\n",
    "print(pairwise_similarities)"
   ]
  },
  {
   "cell_type": "code",
   "execution_count": 61,
   "metadata": {},
   "outputs": [],
   "source": []
  },
  {
   "cell_type": "code",
   "execution_count": null,
   "metadata": {},
   "outputs": [],
   "source": []
  },
  {
   "cell_type": "code",
   "execution_count": 54,
   "metadata": {},
   "outputs": [],
   "source": []
  },
  {
   "cell_type": "code",
   "execution_count": 77,
   "metadata": {},
   "outputs": [],
   "source": [
    "input_ids = torch.tensor(sbert_tokenizer.encode(\"a young cat walk\")).unsqueeze(0)  \n",
    "outputs = sbert_model(input_ids)\n",
    "last_hidden_states = outputs[0]\n",
    "sen1=last_hidden_states.squeeze().detach().numpy()"
   ]
  },
  {
   "cell_type": "code",
   "execution_count": 78,
   "metadata": {},
   "outputs": [],
   "source": [
    "input_ids2 = torch.tensor(sbert_tokenizer.encode(\"the kitten run\")).unsqueeze(0) \n",
    "outputs = sbert_model(input_ids2)\n",
    "last_hidden_states2 = outputs[0]\n",
    "sen2=last_hidden_states2.squeeze().detach().numpy()"
   ]
  },
  {
   "cell_type": "code",
   "execution_count": 83,
   "metadata": {},
   "outputs": [],
   "source": [
    "sim=cosine_similarity(sen1,sen2)"
   ]
  },
  {
   "cell_type": "code",
   "execution_count": 81,
   "metadata": {},
   "outputs": [
    {
     "name": "stdout",
     "output_type": "stream",
     "text": [
      "[[0.63218147 0.61777115 0.6221095  0.5915283  0.6556504 ]\n",
      " [0.59668976 0.64737713 0.60321677 0.5854978  0.6394553 ]\n",
      " [0.5816658  0.62326574 0.6195542  0.5826143  0.6347308 ]\n",
      " [0.6032076  0.62369555 0.67496824 0.60255754 0.65151846]\n",
      " [0.58893365 0.60928476 0.6193613  0.6187098  0.63677824]\n",
      " [0.56818557 0.58466417 0.59055495 0.55695105 0.6632825 ]]\n"
     ]
    }
   ],
   "source": [
    "print(sim)\n",
    "# ax = sns.heatmap(sim, xticklabels=x_labels, yticklabels=y_labels, annot = True)#, square=True, linewidths=0.2)\n",
    "# ax.invert_yaxis()"
   ]
  },
  {
   "cell_type": "code",
   "execution_count": null,
   "metadata": {},
   "outputs": [],
   "source": []
  },
  {
   "cell_type": "code",
   "execution_count": null,
   "metadata": {},
   "outputs": [],
   "source": []
  }
 ],
 "metadata": {
  "kernelspec": {
   "display_name": "Python 3",
   "language": "python",
   "name": "python3"
  },
  "language_info": {
   "codemirror_mode": {
    "name": "ipython",
    "version": 3
   },
   "file_extension": ".py",
   "mimetype": "text/x-python",
   "name": "python",
   "nbconvert_exporter": "python",
   "pygments_lexer": "ipython3",
   "version": "3.8.5"
  }
 },
 "nbformat": 4,
 "nbformat_minor": 2
}
